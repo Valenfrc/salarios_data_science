{
    "cells": [
        {
            "cell_type": "markdown",
            "metadata": {},
            "source": [
                "# Explore here"
            ]
        },
        {
            "cell_type": "code",
            "execution_count": null,
            "metadata": {},
            "outputs": [],
            "source": [
                "import pandas as pd\n",
                "df= df = pd.read_csv('../data/raw/Latest_Data_Science_Salaries.csv')\n",
                "df"
            ]
        },
        {
            "cell_type": "code",
            "execution_count": null,
            "metadata": {},
            "outputs": [],
            "source": [
                "df.info()"
            ]
        },
        {
            "cell_type": "code",
            "execution_count": null,
            "metadata": {},
            "outputs": [],
            "source": [
                "df = df.drop(['Salary', 'Salary Currency'], axis=1)"
            ]
        },
        {
            "cell_type": "code",
            "execution_count": null,
            "metadata": {},
            "outputs": [],
            "source": [
                "df"
            ]
        },
        {
            "cell_type": "code",
            "execution_count": null,
            "metadata": {},
            "outputs": [],
            "source": [
                "df['Experience Level'].unique()"
            ]
        },
        {
            "cell_type": "code",
            "execution_count": null,
            "metadata": {},
            "outputs": [],
            "source": [
                "import matplotlib.pyplot as plt\n",
                "\n",
                "agrupado = df.groupby('Experience Level')['Salary in USD'].mean().reset_index()\n",
                "valores_x = agrupado['Experience Level']\n",
                "valores_y = agrupado['Salary in USD']\n",
                "\n",
                "plt.figure(figsize=(10, 12))\n",
                "plt.bar(x=valores_x, height=valores_y)\n",
                "\n",
                "plt.xlabel('Nivel de Experiencia')\n",
                "plt.ylabel('Salario Promedio en USD')\n",
                "plt.title('Salario Promedio por Nivel de Experiencia')\n",
                "\n",
                "plt.show()"
            ]
        },
        {
            "cell_type": "code",
            "execution_count": null,
            "metadata": {},
            "outputs": [],
            "source": [
                "dic={\n",
                "    'Entry':0,\n",
                "    'Executive':1,\n",
                "    'Mid':2,\n",
                "    'Senior':3\n",
                "}\n"
            ]
        },
        {
            "cell_type": "code",
            "execution_count": null,
            "metadata": {},
            "outputs": [],
            "source": [
                "df[\"Experience Level\"].replace(dic,inplace=True)\n",
                "df"
            ]
        },
        {
            "cell_type": "code",
            "execution_count": null,
            "metadata": {},
            "outputs": [],
            "source": [
                "df['Employment Type'].unique()"
            ]
        },
        {
            "cell_type": "code",
            "execution_count": null,
            "metadata": {},
            "outputs": [],
            "source": [
                "df.groupby('Employment Type')['Salary in USD'].mean().plot.bar()"
            ]
        },
        {
            "cell_type": "code",
            "execution_count": null,
            "metadata": {},
            "outputs": [],
            "source": []
        },
        {
            "cell_type": "code",
            "execution_count": null,
            "metadata": {},
            "outputs": [],
            "source": [
                "dic_et={'Part-Time':0,'Full-Time':1,'Freelance':2,'Contract':3}"
            ]
        },
        {
            "cell_type": "code",
            "execution_count": null,
            "metadata": {},
            "outputs": [],
            "source": [
                "df['Company Size'].unique()"
            ]
        },
        {
            "cell_type": "code",
            "execution_count": null,
            "metadata": {},
            "outputs": [],
            "source": [
                "df.groupby('Company Size')['Salary in USD'].mean().plot.bar()"
            ]
        },
        {
            "cell_type": "code",
            "execution_count": null,
            "metadata": {},
            "outputs": [],
            "source": [
                "dic_cs={'Small':0, 'Large':1, 'Medium':2}"
            ]
        },
        {
            "cell_type": "code",
            "execution_count": null,
            "metadata": {},
            "outputs": [],
            "source": [
                "df['Employment Type'].replace(dic_et, inplace=True)\n",
                "df['Company Size'].replace(dic_cs, inplace=True)\n",
                "df"
            ]
        },
        {
            "cell_type": "code",
            "execution_count": null,
            "metadata": {},
            "outputs": [],
            "source": [
                "df['employee_residence_num'], unique_values=pd.factorize(df['Employee Residence'])\n",
                "df"
            ]
        },
        {
            "cell_type": "code",
            "execution_count": null,
            "metadata": {},
            "outputs": [],
            "source": [
                "unique_values"
            ]
        },
        {
            "cell_type": "code",
            "execution_count": null,
            "metadata": {},
            "outputs": [],
            "source": [
                "dic_er=dict(enumerate(unique_values))\n",
                "dic_er"
            ]
        },
        {
            "cell_type": "code",
            "execution_count": null,
            "metadata": {},
            "outputs": [],
            "source": [
                "#con esta formula ya me arroja los valores ya numerados en el diccionario\n",
                "dic_er={valor:codigo for codigo,valor in dic_er.items()}\n",
                "dic_er"
            ]
        },
        {
            "cell_type": "code",
            "execution_count": null,
            "metadata": {},
            "outputs": [],
            "source": [
                "df['Company Location_num'], unique_values=pd.factorize(df['Company Location'])\n",
                "dic_cl=dict(enumerate(unique_values))\n",
                "dic_cl={valor:codigo for codigo, valor in dic_cl.items()}\n",
                "dic_cl"
            ]
        },
        {
            "cell_type": "code",
            "execution_count": null,
            "metadata": {},
            "outputs": [],
            "source": [
                "df"
            ]
        },
        {
            "cell_type": "code",
            "execution_count": null,
            "metadata": {},
            "outputs": [],
            "source": [
                "#eliminamos columnas que no estan factorizadas y no nececitamos\n",
                "df.drop(['Company Location','Employee Residence','Job Title','Expertise Level'],axis=1, inplace=True)"
            ]
        },
        {
            "cell_type": "code",
            "execution_count": null,
            "metadata": {},
            "outputs": [],
            "source": [
                "x=df.drop(['Salary in USD'],axis=1)\n",
                "y=df['Salary in USD']\n",
                "\n",
                "from sklearn.model_selection import train_test_split\n",
                "\n",
                "x_train,x_test, y_train,y_test=train_test_split(x,y,test_size=0.2,random_state=42)\n",
                "\n",
                "x_train"
            ]
        },
        {
            "cell_type": "code",
            "execution_count": null,
            "metadata": {},
            "outputs": [],
            "source": [
                "from sklearn.ensemble import RandomForestRegressor\n",
                "from xgboost import XGBRegressor\n",
                "from sklearn.metrics import root_mean_squared_error\n",
                "from sklearn.metrics import r2_score\n",
                "\n",
                "model1 = RandomForestRegressor(random_state=42)\n",
                "model2 = XGBRegressor()\n",
                "\n",
                "model1.fit(x_train, y_train)\n",
                "model2.fit(x_train, y_train)  \n",
                "\n",
                "y_pred1 = model1.predict(x_test)\n",
                "y_pred2 = model2.predict(x_test) \n",
                "\n",
                "print(f'rmse modelo 1: {root_mean_squared_error(y_test, y_pred1)} r2: {r2_score(y_test, y_pred1)}')\n",
                "print(f'rmse modelo 2: {root_mean_squared_error(y_test, y_pred2)} r2: {r2_score(y_test, y_pred2)}')"
            ]
        },
        {
            "cell_type": "code",
            "execution_count": null,
            "metadata": {},
            "outputs": [],
            "source": [
                "model2.save_model('../xgboost_model.json')"
            ]
        },
        {
            "cell_type": "code",
            "execution_count": null,
            "metadata": {},
            "outputs": [],
            "source": [
                "import json\n",
                "\n",
                "with open('../data/processed/dic_cl.json', 'w', encoding='utf-8') as archivo:\n",
                "    json.dump(dic_cl, archivo, ensure_ascii=False, indent=4)  # company location\n",
                "\n",
                "with open('../data/processed/dic.json', 'w', encoding='utf-8') as archivo:\n",
                "    json.dump(dic, archivo, ensure_ascii=False, indent=4)  # experience level\n",
                "\n",
                "with open('../data/processed/dic_et.json', 'w', encoding='utf-8') as archivo:\n",
                "    json.dump(dic_et, archivo, ensure_ascii=False, indent=4)  # employment type\n",
                "\n",
                "with open('../data/processed/dic_er.json', 'w', encoding='utf-8') as archivo:\n",
                "    json.dump(dic_er, archivo, ensure_ascii=False, indent=4)  # employee residence\n",
                "\n",
                "with open('../data/processed/dic_cs.json', 'w', encoding='utf-8') as archivo:\n",
                "    json.dump(dic_cs, archivo, ensure_ascii=False, indent=4)  # company size\n"
            ]
        },
        {
            "cell_type": "code",
            "execution_count": 312,
            "metadata": {},
            "outputs": [
                {
                    "data": {
                        "text/plain": [
                            "Index(['Employment Type', 'Experience Level', 'Company Size', 'Year',\n",
                            "       'employee_residence_num', 'Company Location_num'],\n",
                            "      dtype='object')"
                        ]
                    },
                    "execution_count": 312,
                    "metadata": {},
                    "output_type": "execute_result"
                }
            ],
            "source": [
                "x_train.columns"
            ]
        }
    ],
    "metadata": {
        "kernelspec": {
            "display_name": ".venv",
            "language": "python",
            "name": "python3"
        },
        "language_info": {
            "codemirror_mode": {
                "name": "ipython",
                "version": 3
            },
            "file_extension": ".py",
            "mimetype": "text/x-python",
            "name": "python",
            "nbconvert_exporter": "python",
            "pygments_lexer": "ipython3",
            "version": "3.10.12"
        },
        "orig_nbformat": 4
    },
    "nbformat": 4,
    "nbformat_minor": 2
}
